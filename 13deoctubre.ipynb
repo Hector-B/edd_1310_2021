{
  "nbformat": 4,
  "nbformat_minor": 0,
  "metadata": {
    "colab": {
      "name": "13deoctubre.ipynb",
      "provenance": [],
      "authorship_tag": "ABX9TyOAkYKfh7LM/Na1rPWwn5bc",
      "include_colab_link": true
    },
    "kernelspec": {
      "name": "python3",
      "display_name": "Python 3"
    }
  },
  "cells": [
    {
      "cell_type": "markdown",
      "metadata": {
        "id": "view-in-github",
        "colab_type": "text"
      },
      "source": [
        "<a href=\"https://colab.research.google.com/github/Hector-B/edd_1310_2021/blob/master/13deoctubre.ipynb\" target=\"_parent\"><img src=\"https://colab.research.google.com/assets/colab-badge.svg\" alt=\"Open In Colab\"/></a>"
      ]
    },
    {
      "cell_type": "code",
      "metadata": {
        "id": "x5ojDO_cuJ5C",
        "outputId": "5a503d08-8c79-435b-984a-fb08b5abeabb",
        "colab": {
          "base_uri": "https://localhost:8080/",
          "height": 105
        }
      },
      "source": [
        "alumno = { \n",
        "          \"num_cta\" : 303030303 ,\n",
        "          \"carrera\" : \"ICO\",\n",
        "          \"promedio\" : 9.8,\n",
        "          \"materias\" :[\"EDD\",\"CyP\",\"Calidad\",\"Emprendimiento\"],\n",
        "          \"direccion\" : { \n",
        "                            \"calle\":\"rancho seco\",\n",
        "                            \"numero\" : 23 ,\n",
        "                            \"delegacion\" : \"Neza\",\n",
        "                            \"estado\" : {\n",
        "                                        \"id\" : 15 ,\n",
        "                                        \"nombre\" : \"Estado de Máxico\" ,\n",
        "                                        \"nombre_corto\" : \"EdoMex\"\n",
        "                                        } ,\n",
        "                            \"CP\":57170\n",
        "\n",
        "                        } \n",
        "          }\n",
        "print(alumno)\n",
        "alumno['carrera'] = \" Ingenieria en Computacion\"\n",
        "print(alumno)\n",
        "alumno ['nombre_completo']= {'primer':\"Juan\",\n",
        "                             'segundo':\"Pedro\",\n",
        "                            \"materno\": \"Perez\",\n",
        "                             \"paterno\": \"Gomez\",\n",
        "                            \n",
        "                            }\n",
        "alumno['semestre']=3\n",
        "print(alumno)\n",
        "print(f\"{alumno['nombre_completo']['primer']} {alumno['nombre_completo']['segundo']}\")\n",
        "\n",
        "\n"
      ],
      "execution_count": 21,
      "outputs": [
        {
          "output_type": "stream",
          "text": [
            "{'num_cta': 303030303, 'carrera': 'ICO', 'promedio': 9.8, 'materias': ['EDD', 'CyP', 'Calidad', 'Emprendimiento'], 'direccion': {'calle': 'rancho seco', 'numero': 23, 'delegacion': 'Neza', 'estado': {'id': 15, 'nombre': 'Estado de Máxico', 'nombre_corto': 'EdoMex'}, 'CP': 57170}}\n",
            "{'num_cta': 303030303, 'carrera': ' Ingenieria en Computacion', 'promedio': 9.8, 'materias': ['EDD', 'CyP', 'Calidad', 'Emprendimiento'], 'direccion': {'calle': 'rancho seco', 'numero': 23, 'delegacion': 'Neza', 'estado': {'id': 15, 'nombre': 'Estado de Máxico', 'nombre_corto': 'EdoMex'}, 'CP': 57170}}\n",
            "{'num_cta': 303030303, 'carrera': ' Ingenieria en Computacion', 'promedio': 9.8, 'materias': ['EDD', 'CyP', 'Calidad', 'Emprendimiento'], 'direccion': {'calle': 'rancho seco', 'numero': 23, 'delegacion': 'Neza', 'estado': {'id': 15, 'nombre': 'Estado de Máxico', 'nombre_corto': 'EdoMex'}, 'CP': 57170}, 'nombre_completo': {'primer': 'Juan', 'segundo': 'Pedro', 'materno': 'Perez', 'paterno': 'Gomez'}, 'semestre': 3}\n",
            "Juan Pedro\n"
          ],
          "name": "stdout"
        }
      ]
    },
    {
      "cell_type": "code",
      "metadata": {
        "id": "TkjXZkD0x8c5",
        "outputId": "8cf33737-4dab-4d7b-d34e-f2c74e6f7525",
        "colab": {
          "base_uri": "https://localhost:8080/",
          "height": 428
        }
      },
      "source": [
        " #key() , values() y items()\n",
        "\n",
        "llaves = alumno.keys()\n",
        "print(llaves)\n",
        "for llave in llaves:\n",
        "    print(llave.upper())\n",
        "\n",
        "valores = alumno.values()\n",
        "for val in valores:\n",
        "    print(val)\n",
        "\n",
        "pares=alumno.items()\n",
        "print(pares)\n",
        "for elem in pares:\n",
        "  print(f\"el campo { elem[0]} tiene el valor {elem[1]}\")"
      ],
      "execution_count": 8,
      "outputs": [
        {
          "output_type": "stream",
          "text": [
            "dict_keys(['num_cta', 'carrera', 'promedio', 'materias', 'direccion', 'nombre_completo', 'semestre'])\n",
            "NUM_CTA\n",
            "CARRERA\n",
            "PROMEDIO\n",
            "MATERIAS\n",
            "DIRECCION\n",
            "NOMBRE_COMPLETO\n",
            "SEMESTRE\n",
            "303030303\n",
            " Ingenieria en Computacion\n",
            "9.8\n",
            "['EDD', 'CyP', 'Calidad', 'Emprendimiento']\n",
            "{'calle': 'rancho seco', 'numero': 23, 'delegacion': 'Neza', 'estado': {'id': 15, 'nombre': 'Estado de Máxico', 'nombre_corto': 'EdoMex'}, 'CP': 57170}\n",
            "{'primer': 'Juan', 'segundo': 'Pedro', 'materno': 'Perez', 'paterno': 'Gomez'}\n",
            "3\n",
            "dict_items([('num_cta', 303030303), ('carrera', ' Ingenieria en Computacion'), ('promedio', 9.8), ('materias', ['EDD', 'CyP', 'Calidad', 'Emprendimiento']), ('direccion', {'calle': 'rancho seco', 'numero': 23, 'delegacion': 'Neza', 'estado': {'id': 15, 'nombre': 'Estado de Máxico', 'nombre_corto': 'EdoMex'}, 'CP': 57170}), ('nombre_completo', {'primer': 'Juan', 'segundo': 'Pedro', 'materno': 'Perez', 'paterno': 'Gomez'}), ('semestre', 3)])\n",
            "el campo num_cta tiene el valor 303030303\n",
            "el campo carrera tiene el valor  Ingenieria en Computacion\n",
            "el campo promedio tiene el valor 9.8\n",
            "el campo materias tiene el valor ['EDD', 'CyP', 'Calidad', 'Emprendimiento']\n",
            "el campo direccion tiene el valor {'calle': 'rancho seco', 'numero': 23, 'delegacion': 'Neza', 'estado': {'id': 15, 'nombre': 'Estado de Máxico', 'nombre_corto': 'EdoMex'}, 'CP': 57170}\n",
            "el campo nombre_completo tiene el valor {'primer': 'Juan', 'segundo': 'Pedro', 'materno': 'Perez', 'paterno': 'Gomez'}\n",
            "el campo semestre tiene el valor 3\n"
          ],
          "name": "stdout"
        }
      ]
    },
    {
      "cell_type": "code",
      "metadata": {
        "id": "KCg0pr_H1PfC"
      },
      "source": [
        ""
      ],
      "execution_count": null,
      "outputs": []
    },
    {
      "cell_type": "code",
      "metadata": {
        "id": "mtxLzZbD1afK",
        "outputId": "f105dd32-0efd-44d8-e432-789e6c101bfe",
        "colab": {
          "base_uri": "https://localhost:8080/",
          "height": 34
        }
      },
      "source": [
        "#CONCATENAR diccionarios\n",
        "computadora = {\"procesador\":\"Intel i7\",\"ram\": \"Kingston 128GB\"}\n",
        "otros = {\"monitor\":\"LG49\\\"\",\"hd\":\"Toshiba 1TB\"}\n",
        "computadora.update(otros)\n",
        "print(computadora)"
      ],
      "execution_count": 9,
      "outputs": [
        {
          "output_type": "stream",
          "text": [
            "{'procesador': 'Intel i7', 'ram': 'Kingston 128GB', 'monitor': 'LG49\"', 'hd': 'Toshiba 1TB'}\n"
          ],
          "name": "stdout"
        }
      ]
    },
    {
      "cell_type": "markdown",
      "metadata": {
        "id": "ULvyFZxW2n3s"
      },
      "source": [
        "# Funciones\n",
        "- unidades de codigo reutilizable\n",
        "- es un mecanismo de organizacion de codigo\n",
        "- Una funcion toma de 0 a n parametros de entrada \n",
        "- tiene una sola salida(return) de cualquier tipo de dato\n",
        "- solo puedes hacer dos cosas \n",
        "    - definirla \n",
        "    - llamarla\n",
        "- se definen con la palabra reservada 'def'"
      ]
    },
    {
      "cell_type": "code",
      "metadata": {
        "id": "bg-1Nh053xb6",
        "outputId": "61182dca-4136-4a31-8ea8-12935db92f07",
        "colab": {
          "base_uri": "https://localhost:8080/",
          "height": 187
        }
      },
      "source": [
        "def sumar(x,y):\n",
        "  resultado = x + y\n",
        "  return resultado\n",
        "\n",
        "def saludar( nombre ):\n",
        "  print(f\"Hola {nombre}, Como estas?\")\n",
        "  return None\n",
        "\n",
        "print(sumar(10,5))\n",
        "print(sumar(2,6))\n",
        "saludar('Jesus')\n",
        "print(saludar(\"jose\"))\n",
        "\n",
        "# Procesar None\n",
        "\n",
        "\n",
        "def multiplicar(valor , veces):\n",
        "  if valor != None:\n",
        "    c= valor * veces\n",
        "  else:\n",
        "    c= \"Operacion no valida\"\n",
        "  return c\n",
        "\n",
        "def operacion(a , b , c):\n",
        "  res = a + (b / c)\n",
        "  return res\n",
        "\n",
        "\n",
        "print(multiplicar(5,6))\n",
        "print(multiplicar(None,6))\n",
        "print(operacion(2,9,3))\n",
        "print(operacion(2,3,9))\n",
        "\n",
        "print(operacion(a=2,c=3,b=9))\n",
        "\n"
      ],
      "execution_count": 20,
      "outputs": [
        {
          "output_type": "stream",
          "text": [
            "15\n",
            "8\n",
            "Hola Jesus, Como estas?\n",
            "Hola jose, Como estas?\n",
            "None\n",
            "30\n",
            "Operacion no valida\n",
            "5.0\n",
            "2.3333333333333335\n",
            "5.0\n"
          ],
          "name": "stdout"
        }
      ]
    },
    {
      "cell_type": "code",
      "metadata": {
        "id": "N6mE7SyK-iX7",
        "outputId": "8d54a743-8a55-4fd1-e61b-130d22d63f7d",
        "colab": {
          "base_uri": "https://localhost:8080/",
          "height": 272
        }
      },
      "source": [
        "#Valores por defecto\n",
        "def comanda( primer, fuerte , postre=\"Galleta de animalito\"):\n",
        "  print(f\"De entrada pidio: {primer}\")\n",
        "  print(f\"De plato fuerte:{fuerte}\")\n",
        "  print(f\"Postre:{postre}\")\n",
        "\n",
        "\n",
        "#Argumentos posicionales con tuplas\n",
        "\n",
        "def comanda_2( *opciones):\n",
        "  print(opciones)\n",
        "  print(f\"De entrada pidio: {opciones[0]}\")\n",
        "  print(f\"De plato fuerte:{opciones[1]}\")\n",
        "  print(f\"Postre:{opciones[2]}\")\n",
        "  print(\"\\nIndicaciones extra:\")\n",
        "\n",
        "  for ind in opciones[3::]:\n",
        "    print(f\"\\t {ind}\")\n",
        "\n",
        "\n",
        "\n",
        "\n",
        "\n",
        "comanda(\"sopa aguada\",\"Tortas de papa\", \"Gelatina de limon\")\n",
        "comanda(\"sopa aguada\",\"Tortas de papa\")\n",
        "comanda_2(\"sopa aguada\",\"Tortas de papa\", \"Gelatina de limon\",\n",
        "          \"las tortas bien doradas\", \"traer dos limones\",\"Agua con hielo\")\n",
        "\n"
      ],
      "execution_count": 32,
      "outputs": [
        {
          "output_type": "stream",
          "text": [
            "De entrada pidio: sopa aguada\n",
            "De plato fuerte:Tortas de papa\n",
            "Postre:Gelatina de limon\n",
            "De entrada pidio: sopa aguada\n",
            "De plato fuerte:Tortas de papa\n",
            "Postre:Galleta de animalito\n",
            "('sopa aguada', 'Tortas de papa', 'Gelatina de limon', 'las tortas bien doradas', 'traer dos limones', 'Agua con hielo')\n",
            "De entrada pidio: sopa aguada\n",
            "De plato fuerte:Tortas de papa\n",
            "Postre:Gelatina de limon\n",
            "\n",
            "Indicaciones extra:\n",
            "\t las tortas bien doradas\n",
            "\t traer dos limones\n",
            "\t Agua con hielo\n"
          ],
          "name": "stdout"
        }
      ]
    },
    {
      "cell_type": "code",
      "metadata": {
        "id": "UP-UaprrB40x",
        "outputId": "9e4d08d8-72d6-4963-de4a-feedeacb96fd",
        "colab": {
          "base_uri": "https://localhost:8080/",
          "height": 136
        }
      },
      "source": [
        "#Argumentos posicionales con diccionarios\n",
        "def comanda_3(**opciones ):\n",
        "  print(opciones)\n",
        "  for op in opciones.items():\n",
        "    print(f\"{op[0]} -> {op[1]}\")\n",
        "\n",
        "comanda_3(primer= \"sopa aguada\", fuerte=\"Tortas de papa\", postre=\"Gelatina de limon\",\n",
        "          extra1=\"las tortas bien doradas\", extra2=\"traer dos limones\",extra3=\"Agua con hielo\")\n",
        "\n"
      ],
      "execution_count": 39,
      "outputs": [
        {
          "output_type": "stream",
          "text": [
            "{'primer': 'sopa aguada', 'fuerte': 'Tortas de papa', 'postre': 'Gelatina de limon', 'extra1': 'las tortas bien doradas', 'extra2': 'traer dos limones', 'extra3': 'Agua con hielo'}\n",
            "primer -> sopa aguada\n",
            "fuerte -> Tortas de papa\n",
            "postre -> Gelatina de limon\n",
            "extra1 -> las tortas bien doradas\n",
            "extra2 -> traer dos limones\n",
            "extra3 -> Agua con hielo\n"
          ],
          "name": "stdout"
        }
      ]
    }
  ]
}