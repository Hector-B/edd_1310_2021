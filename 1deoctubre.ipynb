{
  "nbformat": 4,
  "nbformat_minor": 0,
  "metadata": {
    "colab": {
      "name": "1deoctubre.ipynb",
      "provenance": [],
      "authorship_tag": "ABX9TyO4tDC7SCd64yUQ0Qvpi1Ak",
      "include_colab_link": true
    },
    "kernelspec": {
      "name": "python3",
      "display_name": "Python 3"
    }
  },
  "cells": [
    {
      "cell_type": "markdown",
      "metadata": {
        "id": "view-in-github",
        "colab_type": "text"
      },
      "source": [
        "<a href=\"https://colab.research.google.com/github/Hector-B/edd_1310_2021/blob/master/1deoctubre.ipynb\" target=\"_parent\"><img src=\"https://colab.research.google.com/assets/colab-badge.svg\" alt=\"Open In Colab\"/></a>"
      ]
    },
    {
      "cell_type": "code",
      "metadata": {
        "id": "I5pKkhWH7ZeF"
      },
      "source": [
        ""
      ],
      "execution_count": null,
      "outputs": []
    },
    {
      "cell_type": "markdown",
      "metadata": {
        "id": "3l1Yc4767sT5"
      },
      "source": [
        "##  Intro Python 3\n",
        "### Variables\n",
        "tipo dinamico\n",
        "escuela = 'Fes Aragon' "
      ]
    },
    {
      "cell_type": "code",
      "metadata": {
        "id": "CWiiKvJb8HZV",
        "outputId": "c60f5950-40d4-4381-b082-55b374e26583",
        "colab": {
          "base_uri": "https://localhost:8080/",
          "height": 102
        }
      },
      "source": [
        "escuela = \"Fes Aragon\"\n",
        "print (escuela)\n",
        "print (\"----------\")\n",
        "edad = 13\n",
        "estatura = 1167\n",
        "fumador = True\n",
        "frase = \"\"\"\n",
        "Esta es una frase de multiples lineas y tambien es un tipo de dato \n",
        "\"\"\"\n",
        "print(frase)\n",
        "nombre = 'jose'\n",
        "nombre_completo =\"jose cardenas sosa\"\n",
        "\n"
      ],
      "execution_count": 3,
      "outputs": [
        {
          "output_type": "stream",
          "text": [
            "Fes Aragon\n",
            "----------\n",
            "\n",
            "Esta es una frase de multiples lineas y tambien es un tipo de dato \n",
            "\n"
          ],
          "name": "stdout"
        }
      ]
    },
    {
      "cell_type": "markdown",
      "metadata": {
        "id": "BYmuYmQi90N5"
      },
      "source": [
        "# Print\n",
        "con comas ,\n",
        "\n",
        "con signo + \n",
        "\n",
        "con format ()\n",
        "\n",
        "operador f\"\"\n"
      ]
    },
    {
      "cell_type": "code",
      "metadata": {
        "id": "GWu3YoB--DQ6",
        "outputId": "2b4753a7-9b98-4357-d41a-3626b11b3738",
        "colab": {
          "base_uri": "https://localhost:8080/",
          "height": 34
        }
      },
      "source": [
        "print(nombre, edad) "
      ],
      "execution_count": 4,
      "outputs": [
        {
          "output_type": "stream",
          "text": [
            "jose 13\n"
          ],
          "name": "stdout"
        }
      ]
    },
    {
      "cell_type": "code",
      "metadata": {
        "id": "IESzsUpR_AUW",
        "outputId": "7c46e200-3125-4735-fe00-50ca422c53e6",
        "colab": {
          "base_uri": "https://localhost:8080/",
          "height": 51
        }
      },
      "source": [
        "# + concatena\n",
        "print(nombre +str(edad))\n",
        "print(nombre+nombre_completo)"
      ],
      "execution_count": 6,
      "outputs": [
        {
          "output_type": "stream",
          "text": [
            "jose13\n",
            "josejose cardenas sosa\n"
          ],
          "name": "stdout"
        }
      ]
    },
    {
      "cell_type": "code",
      "metadata": {
        "id": "aMF-PEeD_PSz",
        "outputId": "61567429-735a-4af4-d9a3-2cb553f198e3",
        "colab": {
          "base_uri": "https://localhost:8080/",
          "height": 34
        }
      },
      "source": [
        "# con formato -> Nombre:Su nombre es Jose y su edad es de 13 años.\n",
        "print (\"Su nombre es \", nombre, \"y su edad es de\", edad, \"años.\") "
      ],
      "execution_count": 7,
      "outputs": [
        {
          "output_type": "stream",
          "text": [
            "Su nombre es  jose y su edad es de  13 años.\n"
          ],
          "name": "stdout"
        }
      ]
    },
    {
      "cell_type": "code",
      "metadata": {
        "id": "TTvMgFblANgn",
        "outputId": "a42a5ef5-803d-4599-e7b9-de48c05b22e7",
        "colab": {
          "base_uri": "https://localhost:8080/",
          "height": 51
        }
      },
      "source": [
        "print(\"Su nombre es {0} y su edad es de {1} años.\" .format(nombre,edad) )\n",
        "print(\"Su nombre es {1} y su edad es de {0} años.\" .format(nombre,edad) )\n"
      ],
      "execution_count": 11,
      "outputs": [
        {
          "output_type": "stream",
          "text": [
            "Su nombre es jose y su edad es de 13 años.\n",
            "Su nombre es 13 y su edad es de jose años.\n"
          ],
          "name": "stdout"
        }
      ]
    },
    {
      "cell_type": "code",
      "metadata": {
        "id": "T2t2bsj3B1MH",
        "outputId": "a38b6629-e4b6-4a77-c175-f1d10e81f71b",
        "colab": {
          "base_uri": "https://localhost:8080/",
          "height": 34
        }
      },
      "source": [
        "# con formato con el operador f\"\"\n",
        "\n",
        "print (f\"Su nombre es {nombre} y su edad es de {edad} años.\" )"
      ],
      "execution_count": 13,
      "outputs": [
        {
          "output_type": "stream",
          "text": [
            "Su nombre es jose y su edad es de 13 años.\n"
          ],
          "name": "stdout"
        }
      ]
    },
    {
      "cell_type": "markdown",
      "metadata": {
        "id": "QNZycOU9CXRH"
      },
      "source": [
        "# Carácter de escape\n",
        "\\n salto de linea\n",
        "\n",
        "\\t tabulador\n",
        "\n",
        "\\a beep\n",
        "\n",
        "\\\\* imprimir comilla doble\n",
        "\n",
        "\\\\' imprimir comilla simple\n",
        "\n",
        "\n"
      ]
    },
    {
      "cell_type": "code",
      "metadata": {
        "id": "HMR0M98fDIfZ",
        "outputId": "3ccb392c-a7c3-4ecf-db43-12e333eb44b7",
        "colab": {
          "base_uri": "https://localhost:8080/",
          "height": 51
        }
      },
      "source": [
        "\"\"\"\n",
        "Comentario de \n",
        "multiple linea\n",
        "siuuu\n",
        "\"\"\"\n",
        "print(f\"\\tMi nombre es \\n\\t \\t {nombre}\")"
      ],
      "execution_count": 14,
      "outputs": [
        {
          "output_type": "stream",
          "text": [
            "\tMi nombre es \n",
            "\t \t jose\n"
          ],
          "name": "stdout"
        }
      ]
    },
    {
      "cell_type": "markdown",
      "metadata": {
        "id": "JeeXCRw-Dxmy"
      },
      "source": [
        "# Ayuda de tipos de datos en python\n",
        "dir()\n",
        "help()\n"
      ]
    },
    {
      "cell_type": "code",
      "metadata": {
        "id": "fenPZ75vENxp"
      },
      "source": [
        "# str , int , float , bool ... list, dict , set\n",
        "help(str)"
      ],
      "execution_count": null,
      "outputs": []
    },
    {
      "cell_type": "code",
      "metadata": {
        "id": "8UUoITUiFLSR",
        "outputId": "bdf3c0e1-6469-44e2-c65f-c12d84f11fd4",
        "colab": {
          "base_uri": "https://localhost:8080/",
          "height": 51
        }
      },
      "source": [
        "print(nombre_completo.capitalize())\n",
        "print(nombre_completo.upper() , end=\"-----\" )\n",
        "print(nombre_completo.title())"
      ],
      "execution_count": 23,
      "outputs": [
        {
          "output_type": "stream",
          "text": [
            "Jose cardenas sosa\n",
            "JOSE CARDENAS SOSA-----Jose Cardenas Sosa\n"
          ],
          "name": "stdout"
        }
      ]
    },
    {
      "cell_type": "code",
      "metadata": {
        "id": "TdJ1vFTxGAGh",
        "outputId": "e56e85c7-798d-4512-abc1-8e7b74654aa2",
        "colab": {
          "base_uri": "https://localhost:8080/",
          "height": 221
        }
      },
      "source": [
        "help(print)"
      ],
      "execution_count": 22,
      "outputs": [
        {
          "output_type": "stream",
          "text": [
            "Help on built-in function print in module builtins:\n",
            "\n",
            "print(...)\n",
            "    print(value, ..., sep=' ', end='\\n', file=sys.stdout, flush=False)\n",
            "    \n",
            "    Prints the values to a stream, or to sys.stdout by default.\n",
            "    Optional keyword arguments:\n",
            "    file:  a file-like object (stream); defaults to the current sys.stdout.\n",
            "    sep:   string inserted between values, default a space.\n",
            "    end:   string appended after the last value, default a newline.\n",
            "    flush: whether to forcibly flush the stream.\n",
            "\n"
          ],
          "name": "stdout"
        }
      ]
    },
    {
      "cell_type": "markdown",
      "metadata": {
        "id": "1nkyeOsLGrbc"
      },
      "source": [
        "# Clase String\n",
        "\n",
        "Es manejada como un arreglo (C o Java ) o lista en Python \n",
        "\n",
        "telefono = \" Huawei Mate 30 Pro\" \n",
        "print(telefono[0])"
      ]
    },
    {
      "cell_type": "code",
      "metadata": {
        "id": "xDlvWcSGG6ZG",
        "outputId": "dacab876-93da-4847-ef97-af0e33f46cad",
        "colab": {
          "base_uri": "https://localhost:8080/",
          "height": 34
        }
      },
      "source": [
        "telefono = \"Huawei Mate 30 Pro\" \n",
        "print(telefono[5])"
      ],
      "execution_count": 26,
      "outputs": [
        {
          "output_type": "stream",
          "text": [
            "i\n"
          ],
          "name": "stdout"
        }
      ]
    },
    {
      "cell_type": "markdown",
      "metadata": {
        "id": "B2cNpUR4IIfl"
      },
      "source": [
        "# Slicing ( Rebanado)\n",
        "[ini : stop :incremento] **Selector**\n",
        "nota : El stop no se incluye,termina en el valor anterior al stop\n"
      ]
    },
    {
      "cell_type": "code",
      "metadata": {
        "id": "oiZ9DQ4FIbuA",
        "outputId": "6224dd95-bf5b-41b6-8ab4-5a8b789719d1",
        "colab": {
          "base_uri": "https://localhost:8080/",
          "height": 119
        }
      },
      "source": [
        "print(telefono[7:11:1])\n",
        "# El inicio y el incremento son opcionales\n",
        "print(telefono[:11:])\n",
        "# el valor por defecto de stop es leng(str)\n",
        "print(telefono[::])\n",
        "# incremento negativo\n",
        "print (telefono[::-1])\n",
        "#  Slicing negativo\n",
        "print (telefono[-3::1])\n",
        "ini = -3\n",
        "inc =1\n",
        "print(telefono[ini::inc])"
      ],
      "execution_count": 31,
      "outputs": [
        {
          "output_type": "stream",
          "text": [
            "Mate\n",
            "Huawei Mate\n",
            "Huawei Mate 30 Pro\n",
            "orP 03 etaM iewauH\n",
            "Pro\n",
            "Pro\n"
          ],
          "name": "stdout"
        }
      ]
    },
    {
      "cell_type": "markdown",
      "metadata": {
        "id": "aNob9Af6NN-9"
      },
      "source": [
        "# Metodos de string (str)\n",
        "Existen metodos muy utiles en esta clase."
      ]
    },
    {
      "cell_type": "code",
      "metadata": {
        "id": "pSL2szlYNWpF",
        "outputId": "73156317-c9a9-46df-e33e-315b7061f5de",
        "colab": {
          "base_uri": "https://localhost:8080/",
          "height": 357
        }
      },
      "source": [
        "facultad= \"    facultad de estudios superiores aragon      \\n\"\n",
        "print(facultad)\n",
        "print(facultad.count(\"u\"))    #numero de elementos de la cadena\n",
        "print(facultad.find(\"s\"))  # encuentra el indice \n",
        "print(facultad.strip() ) #elimina los espacios , saltos de linea\n",
        "tamaño=len(facultad)\n",
        "print(len(facultad))\n",
        "print(f\"tamaño de la cadena es {tamaño} caracteres\")\n",
        "print(facultad)\n",
        "print(facultad.strip().split(\" \"))\n",
        "print(\"--------\")\n",
        "\n",
        "#copiar cadenas\n",
        "otra_cadena = facultad\n",
        "print(otra_cadena)\n",
        "facultad = \"FES Aragon\"\n",
        "print(facultad)\n",
        "print(otra_cadena)\n",
        "\n",
        "# copiar listas \n",
        "colores =[\"rojo\",\"verde\"]\n",
        "otra = colores.copy() \n",
        "print(colores)\n",
        "print(otra)\n",
        "otra.append(\"rosa\")\n",
        "print(colores)\n",
        "print(otra)\n",
        "\n",
        "\n",
        "\n"
      ],
      "execution_count": 48,
      "outputs": [
        {
          "output_type": "stream",
          "text": [
            "    facultad de estudios superiores aragon      \n",
            "\n",
            "3\n",
            "17\n",
            "facultad de estudios superiores aragon\n",
            "49\n",
            "tamaño de la cadena es 49 caracteres\n",
            "    facultad de estudios superiores aragon      \n",
            "\n",
            "['facultad', 'de', 'estudios', 'superiores', 'aragon']\n",
            "--------\n",
            "    facultad de estudios superiores aragon      \n",
            "\n",
            "FES Aragon\n",
            "    facultad de estudios superiores aragon      \n",
            "\n",
            "['rojo', 'verde']\n",
            "['rojo', 'verde']\n",
            "['rojo', 'verde']\n",
            "['rojo', 'verde', 'rosa']\n"
          ],
          "name": "stdout"
        }
      ]
    }
  ]
}