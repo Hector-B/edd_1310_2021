{
  "nbformat": 4,
  "nbformat_minor": 0,
  "metadata": {
    "colab": {
      "name": "6deoctubre.ipynb",
      "provenance": [],
      "authorship_tag": "ABX9TyMOFWg6c27Zl6ys9PYOwk/r",
      "include_colab_link": true
    },
    "kernelspec": {
      "name": "python3",
      "display_name": "Python 3"
    }
  },
  "cells": [
    {
      "cell_type": "markdown",
      "metadata": {
        "id": "view-in-github",
        "colab_type": "text"
      },
      "source": [
        "<a href=\"https://colab.research.google.com/github/Hector-B/edd_1310_2021/blob/master/6deoctubre.ipynb\" target=\"_parent\"><img src=\"https://colab.research.google.com/assets/colab-badge.svg\" alt=\"Open In Colab\"/></a>"
      ]
    },
    {
      "cell_type": "code",
      "metadata": {
        "id": "yhpAJUu8qDX-",
        "outputId": "872b67e5-ed4a-49f6-95d5-200313f4bbbf",
        "colab": {
          "base_uri": "https://localhost:8080/",
          "height": 340
        }
      },
      "source": [
        "# String continuacion\n",
        "\n",
        "numeros_txt= \"   1, 2, 3, 4, 5 , 35  , 15 , 12\"\n",
        "print(numeros_txt)\n",
        "numeros_txt = numeros_txt.lstrip().split(',')\n",
        "print(numeros_txt)\n",
        "\n",
        "for j in range(len(numeros_txt)):\n",
        "  numeros_txt[ j ] = int(numeros_txt[j].strip())\n",
        "  \n",
        "print(numeros_txt)\n",
        "\n",
        "# Funcion range\n",
        "\n",
        "#range(inicio, stop, incremento )\n",
        "print(range(1,10,3))\n",
        "rango = range(1,10,2)\n",
        "\n",
        "for x in rango:\n",
        "  print(x)\n",
        "\n",
        "rango = range(10)\n",
        "for x in rango:\n",
        "  print(x)\n",
        "\n",
        "  "
      ],
      "execution_count": 10,
      "outputs": [
        {
          "output_type": "stream",
          "text": [
            "   1, 2, 3, 4, 5 , 35  , 15 , 12\n",
            "['1', ' 2', ' 3', ' 4', ' 5 ', ' 35  ', ' 15 ', ' 12']\n",
            "[1, 2, 3, 4, 5, 35, 15, 12]\n",
            "range(1, 10, 3)\n",
            "1\n",
            "3\n",
            "5\n",
            "7\n",
            "9\n",
            "0\n",
            "1\n",
            "2\n",
            "3\n",
            "4\n",
            "5\n",
            "6\n",
            "7\n",
            "8\n",
            "9\n"
          ],
          "name": "stdout"
        }
      ]
    },
    {
      "cell_type": "markdown",
      "metadata": {
        "id": "83ELPqjJxEDX"
      },
      "source": [
        " # Listas \n",
        " - Mutables\n",
        " - declaran con [ ]\n",
        " - selector [ int ]\n",
        " - pueden ser de cualquier tipo y mezclado\n",
        "\n",
        " # tuplas\n",
        " - NO mutables\n",
        " - declaran con { }\n",
        " - selectos [ int ]\n",
        " \n",
        " # diccionarios\n",
        " - Son mutables\n",
        " - son conjunto de pares llave:valor\n",
        " - Equivalentes a los Objtos JSON de Java Script\n",
        " #conjuntos\n",
        " - representacion de teoria de conjuntos\n",
        "\n",
        " "
      ]
    },
    {
      "cell_type": "code",
      "metadata": {
        "id": "JmSEj84LrrrE",
        "outputId": "33075ee4-8f83-45f9-fd15-cb8f1ead5ac6",
        "colab": {
          "base_uri": "https://localhost:8080/",
          "height": 136
        }
      },
      "source": [
        " # Listas (Equivalentes a arreglos en otros lenguajes en programacion) \n",
        " # Los datos introducidos en la lista pueden ser de cualquier tipo/ mezclados\n",
        " frutas = [\"Pera\",\"Manzana\", \"fresa\" ,\" Kiwi\",\"Naranja\"]\n",
        " print(frutas)\n",
        " cosas = [\"cuaderno \", 2 , 3.1416 , True , False , [\"Rojo\" , \"Azul\"]]\n",
        " print(cosas)\n",
        " frutas[2]= \"Fresa\"    # frutas[2] = frutas[2].capitalize()\n",
        " print(frutas)\n",
        " # agregar a lista \n",
        " frutas.append(\"Aguacate\") #Append . agrega un elemento final a la lista\n",
        " print(frutas)\n",
        " frutas.insert(2,\"Sandia\")\n",
        " print(frutas)\n",
        "\n",
        " # Concatenar listas\n",
        "\n",
        " fecha = [\"06\", \"10\", \"2020\"] # 06/10/2020\n",
        " print(fecha)\n",
        " fecha_str = \"/\".join(fecha)\n",
        " print(fecha_str)\n",
        " \n",
        "\n",
        "\n",
        "\n",
        "\n",
        "\n",
        "\n",
        "\n"
      ],
      "execution_count": 20,
      "outputs": [
        {
          "output_type": "stream",
          "text": [
            "['Pera', ' Manzana', 'fresa', ' Kiwi', 'Naranja']\n",
            "['cuaderno ', 2, 3.1416, True, False, ['Rojo', 'Azul']]\n",
            "['Pera', ' Manzana', 'Fresa', ' Kiwi', 'Naranja']\n",
            "['Pera', ' Manzana', 'Fresa', ' Kiwi', 'Naranja', 'Aguacate']\n",
            "['Pera', ' Manzana', 'Sandia', 'Fresa', ' Kiwi', 'Naranja', 'Aguacate']\n",
            "['06', '10', '2020']\n",
            "06/10/2020\n"
          ],
          "name": "stdout"
        }
      ]
    },
    {
      "cell_type": "code",
      "metadata": {
        "id": "ZuEGIqO53UJN",
        "outputId": "e9e3e94f-baff-4e2f-efcf-5255499142e6",
        "colab": {
          "base_uri": "https://localhost:8080/",
          "height": 187
        }
      },
      "source": [
        " #Eliminar elementos\n",
        "\n",
        "cosas = [\"cuaderno \", 2 , 3.1416 , True , False , [\"Rojo\" , \"Azul\"]]\n",
        " print(cosas)\n",
        " cosas.append(\"Libro\")\n",
        " cosas.append(\"Lapiz\")\n",
        " print(cosas)\n",
        " algo = cosas.pop()\n",
        " print(cosas)\n",
        " print(algo)\n",
        " \n",
        " algo = cosas.pop(2)\n",
        " print(cosas)\n",
        " print(algo)\n",
        " cosas.remove(2)\n",
        " print(cosas)\n",
        "\n",
        " #Vaciar una lista\n",
        "\n",
        " cosas.clear()\n",
        " print(cosas)\n",
        " \n",
        "#Ordenar listas\n",
        "print(frutas)\n",
        "frutas.sort()\n",
        "print(frutas)\n",
        " \n",
        " \n",
        " \n",
        " \n",
        "\n",
        "\n",
        "\n",
        "\n"
      ],
      "execution_count": 62,
      "outputs": [
        {
          "output_type": "stream",
          "text": [
            "['cuaderno ', 2, 3.1416, True, False, ['Rojo', 'Azul']]\n",
            "['cuaderno ', 2, 3.1416, True, False, ['Rojo', 'Azul'], 'Libro', 'Lapiz']\n",
            "['cuaderno ', 2, 3.1416, True, False, ['Rojo', 'Azul'], 'Libro']\n",
            "Lapiz\n",
            "['cuaderno ', 2, True, False, ['Rojo', 'Azul'], 'Libro']\n",
            "3.1416\n",
            "['cuaderno ', True, False, ['Rojo', 'Azul'], 'Libro']\n",
            "[]\n",
            "[' Kiwi', ' Manzana', 'Aguacate', 'Fresa', 'Naranja', 'Pera', 'Sandia']\n",
            "[' Kiwi', ' Manzana', 'Aguacate', 'Fresa', 'Naranja', 'Pera', 'Sandia']\n"
          ],
          "name": "stdout"
        }
      ]
    },
    {
      "cell_type": "code",
      "metadata": {
        "id": "Bk2_ZISC7ERv",
        "outputId": "8952e5d0-951c-4c3e-c7e1-ec4b5a784c83",
        "colab": {
          "base_uri": "https://localhost:8080/",
          "height": 136
        }
      },
      "source": [
        " # Slicing\n",
        "\n",
        " cosas = [\"cuaderno \", 2 , 3.1416 , True , False , [\"Rojo\" , \"Azul\"]]\n",
        " print(cosas[3:5:1])\n",
        " print(cosas)\n",
        " print(cosas[0][3:5:1])\n",
        "\n",
        " numeros = [0,1,2,3,4,5,6,7,8,9,10,11,12,13,14,15] #inicia desde  0 , no se incluye el tope\n",
        " print(numeros[8:13:])\n",
        " print(numeros [:13:])\n",
        "\n",
        " #Sustituir rebanadas  -2-2  --> [0,1,2,3,4,5,6,7,-2,-2,13,14,15]\n",
        " \n",
        " numeros[8:13:] =[-2,-2]\n",
        " print(numeros)\n",
        "\n",
        "\n",
        " # Preguntar por existencia\n",
        "\n",
        " print(-2 in numeros)\n",
        " \n",
        "\n",
        "\n"
      ],
      "execution_count": 51,
      "outputs": [
        {
          "output_type": "stream",
          "text": [
            "[True, False]\n",
            "['cuaderno ', 2, 3.1416, True, False, ['Rojo', 'Azul']]\n",
            "de\n",
            "[8, 9, 10, 11, 12]\n",
            "[0, 1, 2, 3, 4, 5, 6, 7, 8, 9, 10, 11, 12]\n",
            "[0, 1, 2, 3, 4, 5, 6, 7, -2, -2, 13, 14, 15]\n",
            "True\n"
          ],
          "name": "stdout"
        }
      ]
    },
    {
      "cell_type": "markdown",
      "metadata": {
        "id": "hSVPk98l-jln"
      },
      "source": [
        "# Listas multidimension \n",
        "\n",
        "listas dentro de listas\n",
        "\n"
      ]
    },
    {
      "cell_type": "code",
      "metadata": {
        "id": "GvLXgI8M-qmu",
        "outputId": "b6bfc6da-7199-4f16-afa0-54f7295479a5",
        "colab": {
          "base_uri": "https://localhost:8080/",
          "height": 187
        }
      },
      "source": [
        "computadoras =[\"HP\",\"Mac Book Bro 17\", \"Mate Book\",\"Lenovo Legion\"]\n",
        "oss = [\"Windows 10\" , \"Linux\" , \"Android\" , \"IOS\"]\n",
        "\n",
        "computo = [computadoras, oss ]\n",
        "print(computo[0])\n",
        "print(computo[1])\n",
        "print(computo[0][2])\n",
        "print(computo[0][2][0:5])\n",
        "print(computo[0][3][5: :-1])\n",
        "print(computo[0][3][-8: :-1])\n",
        "print(\"Linux\" in computo[1])\n",
        "dbms = [ [\"Mysql\", \"Open Source\", False],[\"MS SQL Server\",\"de paga\", True] ]\n",
        "computo.append(dbms)\n",
        "print(computo)\n",
        "print(computo[2][0][0])\n",
        "print(computo[2][1][1])\n"
      ],
      "execution_count": 64,
      "outputs": [
        {
          "output_type": "stream",
          "text": [
            "['HP', 'Mac Book Bro 17', 'Mate Book', 'Lenovo Legion']\n",
            "['Windows 10', 'Linux', 'Android', 'IOS']\n",
            "Mate Book\n",
            "Mate \n",
            "ovoneL\n",
            "ovoneL\n",
            "True\n",
            "[['HP', 'Mac Book Bro 17', 'Mate Book', 'Lenovo Legion'], ['Windows 10', 'Linux', 'Android', 'IOS'], [['Mysql', 'Open Source', False], ['MS SQL Server', 'de paga', True]]]\n",
            "Mysql\n",
            "de paga\n"
          ],
          "name": "stdout"
        }
      ]
    }
  ]
}