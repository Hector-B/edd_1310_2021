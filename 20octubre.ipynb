{
  "nbformat": 4,
  "nbformat_minor": 0,
  "metadata": {
    "colab": {
      "name": "20octubre.ipynb",
      "provenance": [],
      "authorship_tag": "ABX9TyOtSeTfSMhqj0+6HD41z0Iv",
      "include_colab_link": true
    },
    "kernelspec": {
      "name": "python3",
      "display_name": "Python 3"
    }
  },
  "cells": [
    {
      "cell_type": "markdown",
      "metadata": {
        "id": "view-in-github",
        "colab_type": "text"
      },
      "source": [
        "<a href=\"https://colab.research.google.com/github/Hector-B/edd_1310_2021/blob/master/20octubre.ipynb\" target=\"_parent\"><img src=\"https://colab.research.google.com/assets/colab-badge.svg\" alt=\"Open In Colab\"/></a>"
      ]
    },
    {
      "cell_type": "code",
      "metadata": {
        "id": "R0VJxsfHy5Ai",
        "outputId": "31ec16f2-59ae-4794-fbfc-eecafcb61a89",
        "colab": {
          "base_uri": "https://localhost:8080/",
          "height": 272
        }
      },
      "source": [
        "archivo = open (\"numeros.txt\", \"rt\")\n",
        "#total \n",
        "for linea in archivo.readlines():\n",
        "  #total por linea\n",
        "  for trunc in linea.split(','):\n",
        "    print(int(trunc.strip()))"
      ],
      "execution_count": 5,
      "outputs": [
        {
          "output_type": "stream",
          "text": [
            "23\n",
            "23\n",
            "44\n",
            "55\n",
            "5\n",
            "44\n",
            "4\n",
            "5\n",
            "7\n",
            "7\n",
            "6\n",
            "5\n",
            "4\n",
            "2\n",
            "1\n"
          ],
          "name": "stdout"
        }
      ]
    },
    {
      "cell_type": "markdown",
      "metadata": {
        "id": "nZJe0FMC2mxm"
      },
      "source": [
        "# Sintaxis for en Python\n",
        "\n",
        "dos versiones de for\n",
        "1. range\n",
        "1. in iterator \n",
        "\n",
        "\n"
      ]
    },
    {
      "cell_type": "code",
      "metadata": {
        "id": "xDmB3Gh22xWi",
        "outputId": "d2f7e8a6-4b2d-4f2b-ab05-4d2c023c2d7c",
        "colab": {
          "base_uri": "https://localhost:8080/",
          "height": 170
        }
      },
      "source": [
        "r = range(0,10,2)     # mo se incluye el stop \n",
        "for x in r:\n",
        "  print(x)\n",
        "\n",
        "\n",
        "colores = ['rojo', 'rosa', 'azul', 'fucsia']\n",
        "\n",
        "\n",
        "for indice in range(0,len(colores),1):   # for(indice = 0; inidce <4; indice++)\n",
        "  #print(colores[indice])\n",
        "  colores[indice]= colores[indice] + str(indice)\n",
        "\n",
        "# for sobre un iterador\n",
        "for col in colores:\n",
        "  print(col)\n",
        "\n"
      ],
      "execution_count": 16,
      "outputs": [
        {
          "output_type": "stream",
          "text": [
            "0\n",
            "2\n",
            "4\n",
            "6\n",
            "8\n",
            "rojo0\n",
            "rosa1\n",
            "azul2\n",
            "fucsia3\n"
          ],
          "name": "stdout"
        }
      ]
    },
    {
      "cell_type": "markdown",
      "metadata": {
        "id": "jYXHBBfO7_bH"
      },
      "source": [
        "# Generadores\n",
        "\n",
        "[valor for x in range(10) ]\n",
        "\n",
        "[[0,0,0],\n",
        " [0,0,0],\n",
        " [0,0,0]]\n",
        "3 x 3"
      ]
    },
    {
      "cell_type": "code",
      "metadata": {
        "id": "-eWwjy4w8Ugs",
        "outputId": "6e24fd96-7603-48a9-a39f-38aa96b35db0",
        "colab": {
          "base_uri": "https://localhost:8080/",
          "height": 34
        }
      },
      "source": [
        "lista = [ 0 for x in range(10) ]\n",
        "print(lista)\n",
        "\n"
      ],
      "execution_count": 21,
      "outputs": [
        {
          "output_type": "stream",
          "text": [
            "[0, 0, 0, 0, 0, 0, 0, 0, 0, 0]\n"
          ],
          "name": "stdout"
        }
      ]
    },
    {
      "cell_type": "code",
      "metadata": {
        "id": "JuFWIM4z9ZoO",
        "outputId": "a81dfe77-c8b5-41e5-b2ad-fc62c455448a",
        "colab": {
          "base_uri": "https://localhost:8080/",
          "height": 34
        }
      },
      "source": [
        "ren = 3\n",
        "col = 3\n",
        "\n",
        "lista = [ [0 for x in range(col)] for x in range(ren) ]\n",
        "print(lista)\n",
        "\n",
        "\n"
      ],
      "execution_count": 24,
      "outputs": [
        {
          "output_type": "stream",
          "text": [
            "[[0, 0, 0], [0, 0, 0], [0, 0, 0]]\n"
          ],
          "name": "stdout"
        }
      ]
    },
    {
      "cell_type": "markdown",
      "metadata": {
        "id": "qf3cUVlV_Kf2"
      },
      "source": [
        "# POO EN PYTHON\n",
        "\n",
        "- clase\n",
        "- creacion de objetos\n",
        "- constructor\n",
        "- encapsulamiento\n",
        "- metodos\n",
        "- atributos\n",
        "- herencia"
      ]
    },
    {
      "cell_type": "code",
      "metadata": {
        "id": "RtuJcRXx_WD6",
        "outputId": "13ab34d6-a359-40b1-eb4d-a1013fc7e2f6",
        "colab": {
          "base_uri": "https://localhost:8080/",
          "height": 34
        }
      },
      "source": [
        "class Computadora:\n",
        "  def __init__(self , m , p ):\n",
        "    self.__marca= m\n",
        "    self.__procesador= p\n",
        "\n",
        "  def to_string(self):\n",
        "    return \"Marca:\"+self.__marca+\"Procesador:\"+self.__procesador\n",
        "\n",
        "mi_pc= Computadora(\"Toshiba\", \"Intel i7\")\n",
        "mi_pc.marca=\"HP \"\n",
        "print(mi_pc.to_string())\n"
      ],
      "execution_count": 34,
      "outputs": [
        {
          "output_type": "stream",
          "text": [
            "Marca:ToshibaProcesador:Intel i7\n"
          ],
          "name": "stdout"
        }
      ]
    }
  ]
}