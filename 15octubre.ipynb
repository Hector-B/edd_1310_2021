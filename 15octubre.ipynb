{
  "nbformat": 4,
  "nbformat_minor": 0,
  "metadata": {
    "colab": {
      "name": "15octubre.ipynb",
      "provenance": [],
      "authorship_tag": "ABX9TyM0bCIUaeJ50kyAVd2y/h8V",
      "include_colab_link": true
    },
    "kernelspec": {
      "name": "python3",
      "display_name": "Python 3"
    }
  },
  "cells": [
    {
      "cell_type": "markdown",
      "metadata": {
        "id": "view-in-github",
        "colab_type": "text"
      },
      "source": [
        "<a href=\"https://colab.research.google.com/github/Hector-B/edd_1310_2021/blob/master/15octubre.ipynb\" target=\"_parent\"><img src=\"https://colab.research.google.com/assets/colab-badge.svg\" alt=\"Open In Colab\"/></a>"
      ]
    },
    {
      "cell_type": "code",
      "metadata": {
        "id": "_vT2l-0Y9N7H"
      },
      "source": [
        ""
      ],
      "execution_count": null,
      "outputs": []
    },
    {
      "cell_type": "markdown",
      "metadata": {
        "id": "JII1D_RsBxbl"
      },
      "source": [
        " # Modulos\n",
        "\n",
        " Son recursos reutilizables que contienen\n",
        " varias funciones que pueden ser \n",
        " importadas a tu codigo."
      ]
    },
    {
      "cell_type": "code",
      "metadata": {
        "id": "4AS4JfoaB_K3",
        "outputId": "41c42b9d-a7dc-41d2-bb38-b0ac9fc20c28",
        "colab": {
          "base_uri": "https://localhost:8080/",
          "height": 51
        }
      },
      "source": [
        "\n",
        "\n",
        "\n",
        "\n",
        "\"\"\"\n",
        "import mi_modulo\n",
        "\n",
        "\n",
        "x = mi_modulo.sumar( 4 , 7 )\n",
        "print( x )\n",
        "mi_modulo.multiplicar(5, 3) \n",
        "\"\"\"\n"
      ],
      "execution_count": 2,
      "outputs": [
        {
          "output_type": "stream",
          "text": [
            "11\n"
          ],
          "name": "stdout"
        },
        {
          "output_type": "execute_result",
          "data": {
            "text/plain": [
              "15"
            ]
          },
          "metadata": {
            "tags": []
          },
          "execution_count": 2
        }
      ]
    },
    {
      "cell_type": "code",
      "metadata": {
        "id": "WNhXhUKaKS5b",
        "outputId": "5d8cc065-9b97-41c9-f62b-9e46fe645452",
        "colab": {
          "base_uri": "https://localhost:8080/",
          "height": 51
        }
      },
      "source": [
        "from mi_modulo import sumar,dividir\n",
        "\n",
        "print(sumar(4,7))\n",
        "print(dividir(14,7))\n"
      ],
      "execution_count": 5,
      "outputs": [
        {
          "output_type": "stream",
          "text": [
            "11\n",
            "2.0\n"
          ],
          "name": "stdout"
        }
      ]
    },
    {
      "cell_type": "code",
      "metadata": {
        "id": "L_Ceq5STLOtH",
        "outputId": "66dff882-db0e-4b80-d58b-88fba99d38fb",
        "colab": {
          "base_uri": "https://localhost:8080/",
          "height": 34
        }
      },
      "source": [
        "import mi_modulo as patito\n",
        "\n",
        "print(patito.sumar(4,6))"
      ],
      "execution_count": 4,
      "outputs": [
        {
          "output_type": "stream",
          "text": [
            "10\n"
          ],
          "name": "stdout"
        }
      ]
    },
    {
      "cell_type": "code",
      "metadata": {
        "id": "_p2eeWrxOCOJ",
        "outputId": "da4f9d41-dbe8-40e9-9661-fef62b1f9b22",
        "colab": {
          "base_uri": "https://localhost:8080/",
          "height": 35
        }
      },
      "source": [
        "from joke_generator import generate\n",
        "\n",
        "generate()"
      ],
      "execution_count": 12,
      "outputs": [
        {
          "output_type": "execute_result",
          "data": {
            "application/vnd.google.colaboratory.intrinsic+json": {
              "type": "string"
            },
            "text/plain": [
              "'Hostess: Do you have a preference of where you sit?\\r\\nDad: Down.'"
            ]
          },
          "metadata": {
            "tags": []
          },
          "execution_count": 12
        }
      ]
    },
    {
      "cell_type": "markdown",
      "metadata": {
        "id": "dkLc6BufSQlx"
      },
      "source": [
        "# Archivos \n",
        "\n",
        "- open(str, str)\n",
        "    1. Nombre o ruta del archivo\n",
        "    2. Dos carecteres \n",
        "      - modo de apertura del \n",
        "        archivo( r, w , a append si y solo si el archivo existe , x append si y solo si el archivo no existe)\n",
        "      - Formato del archivo (t o b)\n",
        "\n",
        "     "
      ]
    },
    {
      "cell_type": "code",
      "metadata": {
        "id": "7lO6unVrSznW"
      },
      "source": [
        " archivo = open(\"saludo.txt\",\"wt\")\n",
        " archivo.write(\"Hola mundo \\n Ola ke asee\")\n",
        " archivo.close()\n"
      ],
      "execution_count": 13,
      "outputs": []
    },
    {
      "cell_type": "code",
      "metadata": {
        "id": "QXyE5wuZUcfj",
        "outputId": "3ec2d3d7-9214-4075-afec-ac446875cfaf",
        "colab": {
          "base_uri": "https://localhost:8080/",
          "height": 153
        }
      },
      "source": [
        "otro = open('./sample_data/anscombe.json',\"rt\")\n",
        "datos = otro.read()\n",
        "#print(datos)\n",
        "otro.close()\n",
        "\n",
        "\n",
        "arch = open('frutas.txt','rt')\n",
        "data = 'ppp'\n",
        "while (data!= ''):\n",
        "  data = arch.readline()\n",
        "  print(data)\n",
        "\n",
        "\n",
        "arch.close()\n",
        "\n",
        "\n",
        "arch = open('frutas.txt','rt')\n",
        "list_frutas = arch.readlines()\n",
        "print(list_frutas)\n",
        "arch.close()\n"
      ],
      "execution_count": 24,
      "outputs": [
        {
          "output_type": "stream",
          "text": [
            "manzana,pera ,  kiwi  , aguacate\n",
            "\n",
            "limon , naranja\n",
            "\n",
            "sandia , papaya\n",
            "\n",
            "\n",
            "['manzana,pera ,  kiwi  , aguacate\\n', 'limon , naranja\\n', 'sandia , papaya\\n']\n"
          ],
          "name": "stdout"
        }
      ]
    },
    {
      "cell_type": "code",
      "metadata": {
        "id": "51aTpnI-WVuP"
      },
      "source": [
        "#help(otro)"
      ],
      "execution_count": null,
      "outputs": []
    }
  ]
}