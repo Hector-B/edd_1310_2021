{
  "nbformat": 4,
  "nbformat_minor": 0,
  "metadata": {
    "colab": {
      "name": "Untitled0.ipynb",
      "provenance": [],
      "authorship_tag": "ABX9TyNsQjvVIuqu00vbnfEO/l27",
      "include_colab_link": true
    },
    "kernelspec": {
      "name": "python3",
      "display_name": "Python 3"
    }
  },
  "cells": [
    {
      "cell_type": "markdown",
      "metadata": {
        "id": "view-in-github",
        "colab_type": "text"
      },
      "source": [
        "<a href=\"https://colab.research.google.com/github/Hector-B/edd_1310_2021/blob/master/29deseptiembre.ipynb\" target=\"_parent\"><img src=\"https://colab.research.google.com/assets/colab-badge.svg\" alt=\"Open In Colab\"/></a>"
      ]
    },
    {
      "cell_type": "code",
      "metadata": {
        "id": "ZGyTZkW7ssGX"
      },
      "source": [
        "edad = 10"
      ],
      "execution_count": 3,
      "outputs": []
    },
    {
      "cell_type": "code",
      "metadata": {
        "id": "vhsD7k9NvKs7",
        "outputId": "084a63a1-5b06-44a3-cde9-7fc17ac4857f",
        "colab": {
          "base_uri": "https://localhost:8080/",
          "height": 51
        }
      },
      "source": [
        "print (edad)\n",
        "colores = (\"rojo\", \"azul\" ,\"verde\", \"morado\", \"violeta\")\n",
        "print (colores) \n",
        "\n",
        "\n"
      ],
      "execution_count": 5,
      "outputs": [
        {
          "output_type": "stream",
          "text": [
            "10\n",
            "('rojo', 'azul', 'verde', 'morado', 'violeta')\n"
          ],
          "name": "stdout"
        }
      ]
    },
    {
      "cell_type": "code",
      "metadata": {
        "id": "TZWXPD5tw8yy",
        "outputId": "542193ec-3e04-44b8-c6f5-74d4e09ea54a",
        "colab": {
          "base_uri": "https://localhost:8080/",
          "height": 34
        }
      },
      "source": [
        "print(colores[3])"
      ],
      "execution_count": 6,
      "outputs": [
        {
          "output_type": "stream",
          "text": [
            "morado\n"
          ],
          "name": "stdout"
        }
      ]
    },
    {
      "cell_type": "code",
      "metadata": {
        "id": "5uPOP3rQ0_vA"
      },
      "source": [
        "nombre = \"Alberto\""
      ],
      "execution_count": 9,
      "outputs": []
    },
    {
      "cell_type": "code",
      "metadata": {
        "id": "WaWX1b-p1nHF",
        "outputId": "c5dc6537-23d9-4f4a-88ce-df6ef26a3d28",
        "colab": {
          "base_uri": "https://localhost:8080/",
          "height": 68
        }
      },
      "source": [
        "print (nombre)\n",
        "print (nombre[0])\n",
        "print(nombre[0:3:1]) "
      ],
      "execution_count": 13,
      "outputs": [
        {
          "output_type": "stream",
          "text": [
            "Alberto\n",
            "A\n",
            "Alb\n"
          ],
          "name": "stdout"
        }
      ]
    },
    {
      "cell_type": "code",
      "metadata": {
        "id": "7S92-UH24waE",
        "outputId": "f5aa5f3f-9c5c-4740-927d-cbabf8db1c57",
        "colab": {
          "base_uri": "https://localhost:8080/",
          "height": 34
        }
      },
      "source": [
        "print(colores[3])"
      ],
      "execution_count": 12,
      "outputs": [
        {
          "output_type": "stream",
          "text": [
            "morado\n"
          ],
          "name": "stdout"
        }
      ]
    },
    {
      "cell_type": "code",
      "metadata": {
        "id": "ttf58Go69x_c",
        "outputId": "535ab2be-a4f7-4b90-c332-c720fad01d05",
        "colab": {
          "base_uri": "https://localhost:8080/",
          "height": 85
        }
      },
      "source": [
        "for i in range (0,4,1):\n",
        "  print(colores[i])"
      ],
      "execution_count": 14,
      "outputs": [
        {
          "output_type": "stream",
          "text": [
            "rojo\n",
            "azul\n",
            "verde\n",
            "morado\n"
          ],
          "name": "stdout"
        }
      ]
    },
    {
      "cell_type": "markdown",
      "metadata": {
        "id": "WJPRkv8AA49t"
      },
      "source": [
        " # For en python \n",
        " j in range (int, tope , incremento) in"
      ]
    },
    {
      "cell_type": "code",
      "metadata": {
        "id": "DZ5Oxc5n_pMT",
        "outputId": "603f7a81-1431-4000-8b49-6bc9eacc0cd1",
        "colab": {
          "base_uri": "https://localhost:8080/",
          "height": 102
        }
      },
      "source": [
        "for color in colores:\n",
        "  print(color)"
      ],
      "execution_count": 15,
      "outputs": [
        {
          "output_type": "stream",
          "text": [
            "rojo\n",
            "azul\n",
            "verde\n",
            "morado\n",
            "violeta\n"
          ],
          "name": "stdout"
        }
      ]
    },
    {
      "cell_type": "code",
      "metadata": {
        "id": "t7oeAibOAAj2",
        "outputId": "60578f20-1185-4971-b8e7-578e56345f14",
        "colab": {
          "base_uri": "https://localhost:8080/",
          "height": 136
        }
      },
      "source": [
        "for m in range(0,len(nombre),1):\n",
        "  print(nombre[m])"
      ],
      "execution_count": 16,
      "outputs": [
        {
          "output_type": "stream",
          "text": [
            "A\n",
            "l\n",
            "b\n",
            "e\n",
            "r\n",
            "t\n",
            "o\n"
          ],
          "name": "stdout"
        }
      ]
    },
    {
      "cell_type": "code",
      "metadata": {
        "id": "0Spd8hoEAFiA",
        "outputId": "dbc85b20-9db2-49b7-ae5a-8a4fe4919868",
        "colab": {
          "base_uri": "https://localhost:8080/",
          "height": 136
        }
      },
      "source": [
        "for letra in nombre:\n",
        "  print(letra)"
      ],
      "execution_count": 17,
      "outputs": [
        {
          "output_type": "stream",
          "text": [
            "A\n",
            "l\n",
            "b\n",
            "e\n",
            "r\n",
            "t\n",
            "o\n"
          ],
          "name": "stdout"
        }
      ]
    },
    {
      "cell_type": "markdown",
      "metadata": {
        "id": "db7-8sBqAQv0"
      },
      "source": [
        "# Que es markdown ?\n",
        "Markdown es un lenguaje de maracado para documentar codigo  . El objetivo es simplificar la escritura del lenguaje HTML\n",
        "\n",
        "---\n",
        "\n",
        "**negritas**\n",
        "\n",
        "***\n",
        "\n",
        "***\n",
        "\n",
        "Mas informacion en : [GitHub Cheatsear Markdown](https://github.com/adam-p/markdown-here/wiki/Markdown-Cheatsheet) \n",
        "\n",
        "---\n",
        "\n",
        "![texto alterno](https://images-na.ssl-images-amazon.com/images/I/81ZNs09s4OL._AC_SL1500_.jpg)\n"
      ]
    }
  ]
}