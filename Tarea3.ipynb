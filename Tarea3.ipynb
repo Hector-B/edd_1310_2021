{
  "nbformat": 4,
  "nbformat_minor": 0,
  "metadata": {
    "colab": {
      "name": "Tarea3.ipynb",
      "provenance": [],
      "authorship_tag": "ABX9TyN1xFhoXbRi8gCflLUXOJBf",
      "include_colab_link": true
    },
    "kernelspec": {
      "name": "python3",
      "display_name": "Python 3"
    }
  },
  "cells": [
    {
      "cell_type": "markdown",
      "metadata": {
        "id": "view-in-github",
        "colab_type": "text"
      },
      "source": [
        "<a href=\"https://colab.research.google.com/github/Hector-B/edd_1310_2021/blob/master/Tarea3.ipynb\" target=\"_parent\"><img src=\"https://colab.research.google.com/assets/colab-badge.svg\" alt=\"Open In Colab\"/></a>"
      ]
    },
    {
      "cell_type": "code",
      "metadata": {
        "id": "6ee0SBmlcnTY",
        "outputId": "3c4638ea-0ce0-4267-e65e-1f88d781dd33",
        "colab": {
          "base_uri": "https://localhost:8080/",
          "height": 51
        }
      },
      "source": [
        "class Persona:\n",
        "  def __init__(self, n, e, est):\n",
        "    self.__nombre= n\n",
        "    self.__edad= e\n",
        "    self.__estatura= est\n",
        "\n",
        "\n",
        "  def Dormir(self):\n",
        "    return \"El es \"+self.__nombre+\"y tiene \" +self.__edad+\"años\"+ \", duerme 6 hrs al dia\" \n",
        "    #return self.__nombre+\"duerme menos porque a los \"+self.__edad+\"años tienes más responsabilidades\"\n",
        "  def Comer(self):\n",
        "    return self.__nombre+\"mide \"+self.__estatura+\" y por lo tanto necesita mas comida \" \n",
        "    \n",
        "sujeto= Persona(\"Hector \",\"19 \",\"1.80\")\n",
        "print(sujeto.Dormir())\n",
        "print(sujeto.Comer())"
      ],
      "execution_count": 13,
      "outputs": [
        {
          "output_type": "stream",
          "text": [
            "El es Hector y tiene 19 años, duerme 6 hrs al dia\n",
            "Hector mide 1.80 y por lo tanto necesita mas comida \n"
          ],
          "name": "stdout"
        }
      ]
    },
    {
      "cell_type": "code",
      "metadata": {
        "id": "uOT3Cc6qdvDx",
        "outputId": "b8e0093e-a1bb-4a00-f185-480be27f6c8c",
        "colab": {
          "base_uri": "https://localhost:8080/",
          "height": 51
        }
      },
      "source": [
        "class Celular:\n",
        "  mi_cel= Celular(\"Xioami\", \"Redmi 5A\", \"64GB\")\n",
        "  def __init__(self, m, mo, em):\n",
        "    self.__marca= m\n",
        "    self.__modelo= mo\n",
        "    self.__memoria= em\n",
        "\n",
        "\n",
        "  def Llamar(self):\n",
        "    return \"El \" +self.__marca+self.__modelo+\" es el mejor celular para llamar a larga distacia\"\n",
        "  def PonerAlarma(self):\n",
        "    return \"Una de tantas funcionalidades es poner alarmas, debido a su memoria de \"+self.__memoria \n",
        "\n",
        "\n",
        "\n",
        "\n",
        "print(mi_cel.Llamar())\n",
        "print(mi_cel.PonerAlarma())"
      ],
      "execution_count": 12,
      "outputs": [
        {
          "output_type": "stream",
          "text": [
            "El XioamiRedmi 5A es el mejor celular para llamar a larga distacia\n",
            "Una de tantas funcionalidades es poner alarmas, debido a su memoria de 64GB\n"
          ],
          "name": "stdout"
        }
      ]
    }
  ]
}