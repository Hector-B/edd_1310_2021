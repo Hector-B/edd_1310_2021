{
  "nbformat": 4,
  "nbformat_minor": 0,
  "metadata": {
    "colab": {
      "name": "27octubre.ipynb",
      "provenance": [],
      "authorship_tag": "ABX9TyPeZSIBPCECBXgZz/1pBfaO",
      "include_colab_link": true
    },
    "kernelspec": {
      "name": "python3",
      "display_name": "Python 3"
    }
  },
  "cells": [
    {
      "cell_type": "markdown",
      "metadata": {
        "id": "view-in-github",
        "colab_type": "text"
      },
      "source": [
        "<a href=\"https://colab.research.google.com/github/Hector-B/edd_1310_2021/blob/master/27octubre.ipynb\" target=\"_parent\"><img src=\"https://colab.research.google.com/assets/colab-badge.svg\" alt=\"Open In Colab\"/></a>"
      ]
    },
    {
      "cell_type": "code",
      "metadata": {
        "id": "_dn28OuhB1Xh",
        "outputId": "bfdfcc64-8eb1-4146-871c-8727bd9e091d",
        "colab": {
          "base_uri": "https://localhost:8080/",
          "height": 68
        }
      },
      "source": [
        "class Computadora:\n",
        "    def __init__( self , m , p):\n",
        "        self.__marca = m\n",
        "        self.__procesador = p\n",
        "\n",
        "    def to_string( self ):\n",
        "        return \"MArca:\"+self.__marca+\" Procesador:\"+self.__procesador\n",
        "    def set_marca( self , m ):\n",
        "      self.__marca = m\n",
        "    def get_marca(self):\n",
        "      return self.__marca\n",
        "    def set_procesador( self, p):\n",
        "      self.__procesador = p\n",
        "    def get_procesador(self):\n",
        "      return self.__procesador\n",
        "\n",
        "\n",
        "mi_pc = Computadora(\"Toshiba\",\"Intel i7\")\n",
        "print(mi_pc.to_string())\n",
        "mi_pc.__marca=\"HP \"\n",
        "mi_pc.set_marca(\"HP\")\n",
        "print(mi_pc.to_string())\n",
        "print( mi_pc.get_procesador())\n",
        "\n"
      ],
      "execution_count": null,
      "outputs": [
        {
          "output_type": "stream",
          "text": [
            "MArca:Toshiba Procesador:Intel i7\n",
            "MArca:HP Procesador:Intel i7\n",
            "Intel i7\n"
          ],
          "name": "stdout"
        }
      ]
    },
    {
      "cell_type": "markdown",
      "metadata": {
        "id": "KSSv9v6IEKnY"
      },
      "source": [
        "# Encapsulamiento en Python 3\n",
        "## Tradicional tipo Java\n",
        "    void set Atributo ( val)\n",
        "    get Atributo ()\n",
        "## Estilo python 3\n",
        " Utilizando DECORADORES\n",
        " - @property\n",
        " - @atributo.setter\n"
      ]
    },
    {
      "cell_type": "code",
      "metadata": {
        "id": "GbAEE3R6Eo_f",
        "outputId": "7fa8b7cc-02b7-4cc0-fab7-6cdd88cb0420",
        "colab": {
          "base_uri": "https://localhost:8080/",
          "height": 102
        }
      },
      "source": [
        "class Computadora: \n",
        "  def __init__(self, m , p):\n",
        "    self.marca = m # de manda llamar el docorador @property\n",
        "    self.procesador = p #idem\n",
        "  @property       #declara vomo atributo privado y funciona como método get\n",
        "  def marca(self):\n",
        "    return self.__marca\n",
        "\n",
        "  @marca.setter\n",
        "  def marca(self, m):\n",
        "    print(\"En el setter de MARCA\")\n",
        "    self.__marca = m\n",
        "\n",
        "  @property\n",
        "  def procesador( self ):\n",
        "    return self.__procesador\n",
        "  \n",
        "  @procesador.setter\n",
        "  def procesador (self, p):\n",
        "    print(\"En el metodo set de procesador\")\n",
        "    self.__procesador = p\n",
        "\n",
        "  def to_string(self):\n",
        "    return \"marca: \" + self.marca + \" Procesador:\" + self.procesador\n",
        "\n",
        "mi_pc2 = Computadora(\"Mac book pro\", \"Intel i7\")\n",
        "print(mi_pc2.to_string())\n",
        "mi_pc2.marca = \"Dell\"\n",
        "print(mi_pc2.to_string())\n",
        "\n"
      ],
      "execution_count": 13,
      "outputs": [
        {
          "output_type": "stream",
          "text": [
            "En el setter de MARCA\n",
            "En el metodo set de procesador\n",
            "marca: Mac book pro Procesador:Intel i7\n",
            "En el setter de MARCA\n",
            "marca: Dell Procesador:Intel i7\n"
          ],
          "name": "stdout"
        }
      ]
    },
    {
      "cell_type": "code",
      "metadata": {
        "id": "xBcrzQOnM60S",
        "outputId": "213442e4-4a6b-4acd-d0fd-d03fd3a6acec",
        "colab": {
          "base_uri": "https://localhost:8080/",
          "height": 85
        }
      },
      "source": [
        "# Herencia , pasando la clase base a la declaracion \n",
        "\n",
        "class ServidorEmplesarial( Computadora):\n",
        "  def __init__(self):\n",
        "    print(\"Hola servidor\")\n",
        "\n",
        "\n",
        "server = ServidorEmplesarial()\n",
        "server.marca = \"Sun Micro Systems\"\n",
        "server.procesador = \"Intel i7\"\n",
        "print(server.to_string())"
      ],
      "execution_count": 17,
      "outputs": [
        {
          "output_type": "stream",
          "text": [
            "Hola servidor\n",
            "En el setter de MARCA\n",
            "En el metodo set de procesador\n",
            "marca: Sun Micro Systems Procesador:Intel i7\n"
          ],
          "name": "stdout"
        }
      ]
    }
  ]
}